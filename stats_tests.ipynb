{
 "cells": [
  {
   "cell_type": "code",
   "execution_count": 1,
   "metadata": {},
   "outputs": [],
   "source": [
    "from stats import Statistics\n",
    "\n",
    "st = Statistics(\"./tests/network.tsv\",'./tests/clustering.tsv')"
   ]
  },
  {
   "cell_type": "code",
   "execution_count": 2,
   "metadata": {},
   "outputs": [],
   "source": [
    "st.from_tsv()"
   ]
  },
  {
   "cell_type": "code",
   "execution_count": 3,
   "metadata": {},
   "outputs": [
    {
     "name": "stdout",
     "output_type": "stream",
     "text": [
      "[11, 11, 0.41319444444444453, 11.0]\n"
     ]
    }
   ],
   "source": [
    "st.compute_stats()"
   ]
  },
  {
   "cell_type": "code",
   "execution_count": 4,
   "metadata": {},
   "outputs": [
    {
     "data": {
      "text/html": [
       "<div>\n",
       "<style scoped>\n",
       "    .dataframe tbody tr th:only-of-type {\n",
       "        vertical-align: middle;\n",
       "    }\n",
       "\n",
       "    .dataframe tbody tr th {\n",
       "        vertical-align: top;\n",
       "    }\n",
       "\n",
       "    .dataframe thead th {\n",
       "        text-align: right;\n",
       "    }\n",
       "</style>\n",
       "<table border=\"1\" class=\"dataframe\">\n",
       "  <thead>\n",
       "    <tr style=\"text-align: right;\">\n",
       "      <th></th>\n",
       "      <th>cluster</th>\n",
       "      <th>n</th>\n",
       "      <th>m</th>\n",
       "      <th>modularity</th>\n",
       "      <th>cpm_score</th>\n",
       "      <th>connectivity</th>\n",
       "      <th>connectivity_normalized_log10(n)</th>\n",
       "      <th>connectivity_normalized_log2(n)</th>\n",
       "      <th>connectivity_normalized_sqrt(n)/5</th>\n",
       "      <th>conductance</th>\n",
       "    </tr>\n",
       "  </thead>\n",
       "  <tbody>\n",
       "    <tr>\n",
       "      <th>0</th>\n",
       "      <td>0</td>\n",
       "      <td>6</td>\n",
       "      <td>6</td>\n",
       "      <td>0.206597</td>\n",
       "      <td>6.0</td>\n",
       "      <td>0</td>\n",
       "      <td>0.000000</td>\n",
       "      <td>0.000000</td>\n",
       "      <td>0.000000</td>\n",
       "      <td>0.090909</td>\n",
       "    </tr>\n",
       "    <tr>\n",
       "      <th>1</th>\n",
       "      <td>1</td>\n",
       "      <td>5</td>\n",
       "      <td>5</td>\n",
       "      <td>0.206597</td>\n",
       "      <td>5.0</td>\n",
       "      <td>1</td>\n",
       "      <td>1.430677</td>\n",
       "      <td>0.430677</td>\n",
       "      <td>2.236068</td>\n",
       "      <td>0.090909</td>\n",
       "    </tr>\n",
       "  </tbody>\n",
       "</table>\n",
       "</div>"
      ],
      "text/plain": [
       "  cluster  n  m  modularity  cpm_score  connectivity  \\\n",
       "0       0  6  6    0.206597        6.0             0   \n",
       "1       1  5  5    0.206597        5.0             1   \n",
       "\n",
       "   connectivity_normalized_log10(n)  connectivity_normalized_log2(n)  \\\n",
       "0                          0.000000                         0.000000   \n",
       "1                          1.430677                         0.430677   \n",
       "\n",
       "   connectivity_normalized_sqrt(n)/5  conductance  \n",
       "0                           0.000000     0.090909  \n",
       "1                           2.236068     0.090909  "
      ]
     },
     "execution_count": 4,
     "metadata": {},
     "output_type": "execute_result"
    }
   ],
   "source": [
    "st.to_csv()"
   ]
  },
  {
   "cell_type": "code",
   "execution_count": 5,
   "metadata": {},
   "outputs": [],
   "source": [
    "st.compute_summary()"
   ]
  },
  {
   "cell_type": "code",
   "execution_count": 6,
   "metadata": {},
   "outputs": [
    {
     "data": {
      "text/plain": [
       "network                                         ./tests/clustering_stats.csv\n",
       "num_clusters                                                               1\n",
       "network_n                                      0    11\n",
       "Name: n, dtype: int64\n",
       "network_m                                      0    11\n",
       "Name: m, dtype: int64\n",
       "total_n                                                                    6\n",
       "total_m                                                                    6\n",
       "cluster_size_dist                                      [6, 6.0, 6.0, 6.0, 6]\n",
       "mean_cluster_size                                                        6.0\n",
       "total_modularity              0    0.413194\n",
       "Name: modularity, dtype: float64\n",
       "modularity_dist            [0.20659722222222227, 0.20659722222222227, 0.2...\n",
       "modularity_mean                                                     0.206597\n",
       "total_cpm_score                    0    11.0\n",
       "Name: cpm_score, dtype: float64\n",
       "cpm_dist                                           [6.0, 6.0, 6.0, 6.0, 6.0]\n",
       "cpm_mean                                                                 6.0\n",
       "conductance_dist           [0.09090909090909091, 0.09090909090909091, 0.0...\n",
       "conductance_mean                                                    0.090909\n",
       "mincuts_dist                                           [0, 0.0, 0.0, 0.0, 0]\n",
       "mincuts_mean                                                             0.0\n",
       "mincuts_normalized_dist                                [0, 0.0, 0.0, 0.0, 0]\n",
       "mincuts_mean_normalized                                                  0.0\n",
       "node_coverage                             0    0.545\n",
       "Name: n, dtype: float64\n",
       "node_coverage_gr10                          0    0.0\n",
       "Name: n, dtype: float64\n",
       "dtype: object"
      ]
     },
     "execution_count": 6,
     "metadata": {},
     "output_type": "execute_result"
    }
   ],
   "source": [
    "st.to_summary_csv()"
   ]
  }
 ],
 "metadata": {
  "kernelspec": {
   "display_name": "Python 3 (ipykernel)",
   "language": "python",
   "name": "python3"
  },
  "language_info": {
   "codemirror_mode": {
    "name": "ipython",
    "version": 3
   },
   "file_extension": ".py",
   "mimetype": "text/x-python",
   "name": "python",
   "nbconvert_exporter": "python",
   "pygments_lexer": "ipython3",
   "version": "3.11.8"
  }
 },
 "nbformat": 4,
 "nbformat_minor": 4
}
